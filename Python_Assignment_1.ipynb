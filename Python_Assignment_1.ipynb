{
 "cells": [
  {
   "cell_type": "markdown",
   "metadata": {},
   "source": [
    "# Python Assignment 1"
   ]
  },
  {
   "cell_type": "markdown",
   "metadata": {},
   "source": [
    "\"\"\" 1. In the below elements which of them are values or an expression? eg:- values can be\n",
    "integer or string and expressions will be mathematical operators.\n",
    "*\n",
    "'hello'\n",
    "-87.8\n",
    "-\n",
    "/\n",
    "+\n",
    "6\n",
    "\"\"\"\n",
    "Answer:\n",
    "\n",
    "Values:\n",
    "    'hello': This is a string.\n",
    "    -87.8: This is a floating-point number value.\n",
    "    6: This is an integer value.\n",
    "Expressions (or Mathematical Operators):\n",
    "    *: Multiplication operator.\n",
    "    -: Subtraction operator or unary negation, depending on context.\n",
    "    /: Division operator.\n",
    "    +: Addition operator."
   ]
  },
  {
   "cell_type": "markdown",
   "metadata": {},
   "source": [
    "2. What is the difference between string and variable?\n",
    "\n",
    "Answer:\n",
    "\n",
    "String:\n",
    "A string is a type of data that represents textual information. It is a sequence of characters, which can include letters, numbers, symbols, and spaces. Strings are typically enclosed in quotes.\n",
    "\n",
    "Variable:\n",
    "A variable, on the other hand, is a name that refers to a location in memory where data can be stored. The data stored in a variable can be of various types, including strings, integers, floating-point numbers, and more. A variable can hold a string, but it can also hold other types of data. The name of the variable is used in a program to access the data it refers to."
   ]
  },
  {
   "cell_type": "markdown",
   "metadata": {},
   "source": [
    "3. Describe three different data types.\n",
    "\n",
    "Answer:\n",
    "1. Integer:\n",
    " An integer is a data type used to store whole numbers. These are numbers without any decimal part and can be either positive, negative, or zero. Integers are commonly used for counting, indexing, and operations that require non-fractional numbers.\n",
    "\n",
    "2. Floating-point Number:\n",
    " Floating-point numbers, or floats, are used to represent real numbers that can have a fractional part. They can represent very small numbers close to zero, very large numbers, and everything in between. Floats are essential for calculations that require precision and representing real-world measurements that are not whole numbers.\n",
    "\n",
    "3. String:\n",
    " Strings are sequences of characters used to store textual data. Characters in a string can include letters, numbers, punctuation marks, and spaces. Strings are typically enclosed in quotes (e.g., single ', double \", or triple quotes for multi-line strings in some languages). They are used to represent words, sentences, or any text-based information."
   ]
  },
  {
   "cell_type": "markdown",
   "metadata": {},
   "source": [
    "4. What is an expression made up of? What do all expressions do?\n",
    "\n",
    "Answer:\n",
    "An expression in programming is made up of a combination of variables, operators, literals, and function calls that the programming language interprets and computes to produce another value. The structure of an expression can be simple, involving just a literal value, or complex, involving multiple operators and operands. \n",
    "\n",
    "1. Arithmetic computations (addition, subtraction, multiplication, division, etc.)\n",
    "2. Logical operations (AND, OR, NOT, etc.)\n",
    "3. Comparisons (greater than, less than, equal to, not equal to, etc.)\n",
    "4. Function calls (which execute a set of instructions and return a result)\n",
    "5. Accessing values stored in variables or data structures (like arrays or objects)"
   ]
  },
  {
   "cell_type": "markdown",
   "metadata": {},
   "source": [
    "5. This assignment statements, like spam = 10. What is the difference between an expression and a statement?\n",
    "\n",
    "Answer:\n",
    "An expression is any section of code that evaluates to a value. Expressions are combinations of values, variables, operators, and calls to functions. For example, 3 + 4 or len(\"hello\") are expressions. Expressions need to be evaluated. \n",
    "\n",
    "A statement, on the other hand, is an instruction that the Python interpreter can execute. It does something, like creating a variable or displaying a value, but does not itself have a value. In the example spam = 10, spam = 10 is a statement that tells Python to create the variable spam and assign it the integer value of 10. Unlike expressions, statements do not return or evaluate to a value.\n",
    "\n",
    "spam = 10  # This is a statement.\n",
    "spam + 20  # This is an expression, which evaluates to 30.\n"
   ]
  },
  {
   "cell_type": "markdown",
   "metadata": {},
   "source": [
    "6. After running the following code, what does the variable bacon contain?\n",
    "bacon = 22\n",
    "bacon + 1\n",
    "\n",
    "Answer: 23"
   ]
  },
  {
   "cell_type": "code",
   "execution_count": 2,
   "metadata": {},
   "outputs": [
    {
     "data": {
      "text/plain": [
       "23"
      ]
     },
     "execution_count": 2,
     "metadata": {},
     "output_type": "execute_result"
    }
   ],
   "source": [
    "bacon = 22\n",
    "bacon + 1"
   ]
  },
  {
   "cell_type": "markdown",
   "metadata": {},
   "source": [
    "7. What should the values of the following two terms be?\n",
    "'spam' + 'spamspam'\n",
    "'spam' * 3\n",
    "\n",
    "Answer: 'spamspamspam'"
   ]
  },
  {
   "cell_type": "code",
   "execution_count": 4,
   "metadata": {},
   "outputs": [
    {
     "data": {
      "text/plain": [
       "'spamspamspam'"
      ]
     },
     "execution_count": 4,
     "metadata": {},
     "output_type": "execute_result"
    }
   ],
   "source": [
    "'spam' + 'spamspam'"
   ]
  },
  {
   "cell_type": "code",
   "execution_count": 5,
   "metadata": {},
   "outputs": [
    {
     "data": {
      "text/plain": [
       "'spamspamspam'"
      ]
     },
     "execution_count": 5,
     "metadata": {},
     "output_type": "execute_result"
    }
   ],
   "source": [
    "'spam' * 3"
   ]
  },
  {
   "cell_type": "markdown",
   "metadata": {},
   "source": [
    "8. Why is eggs a valid variable name while 100 is invalid?\n",
    "\n",
    "Answer:\n",
    "\n",
    "Rules for a valid variable\n",
    "\n",
    "Starting with letters or underscores: Variable names must start with a letter (either uppercase or lowercase) or an underscore (_). This rule helps differentiate variable names from literals, such as numbers, and also prevents conflicts with syntactical features of the language. The name eggs follows this rule, starting with a letter.\n",
    "\n",
    "No reserved words: Variable names cannot be the same as reserved words (or keywords) of the language. Reserved words have special meanings in Python and cannot be used for other purposes. Since eggs is not a reserved word, it's a valid variable name.\n",
    "\n",
    "Cannot start with a number: Variable names cannot begin with a number. This rule prevents ambiguity between variables and numeric literals, ensuring that expressions in the language are unambiguous. The \"name\" 100 violates this rule because it consists solely of digits and would be interpreted as a numeric literal, not a variable name.\n",
    "\n",
    "Contains only alphanumeric characters and underscores: Valid variable names can only include letters, numbers, and underscores. Special characters like @, $, %, etc., are not allowed within variable names. Again, eggs adheres to this rule, whereas 100 doesn't apply here since its invalidity is already established by starting with a number."
   ]
  },
  {
   "cell_type": "markdown",
   "metadata": {},
   "source": [
    "9. What three functions can be used to get the integer, floating-point number, or string version of a value?\n",
    "\n",
    "Answer: int(), float(), str()"
   ]
  },
  {
   "cell_type": "markdown",
   "metadata": {},
   "source": [
    "10. Why does this expression cause an error? How can you fix it? \n",
    "'I have eaten ' + 99 + ' burritos.'\n",
    "\n",
    "Answer: 'I have eaten ' + '99' + ' burritos.'"
   ]
  },
  {
   "cell_type": "code",
   "execution_count": 1,
   "metadata": {},
   "outputs": [
    {
     "data": {
      "text/plain": [
       "'I have eaten 99 burritos.'"
      ]
     },
     "execution_count": 1,
     "metadata": {},
     "output_type": "execute_result"
    }
   ],
   "source": [
    "'I have eaten ' + '99' + ' burritos.'"
   ]
  }
 ],
 "metadata": {
  "kernelspec": {
   "display_name": "Python 3",
   "language": "python",
   "name": "python3"
  },
  "language_info": {
   "codemirror_mode": {
    "name": "ipython",
    "version": 3
   },
   "file_extension": ".py",
   "mimetype": "text/x-python",
   "name": "python",
   "nbconvert_exporter": "python",
   "pygments_lexer": "ipython3",
   "version": "3.10.4"
  }
 },
 "nbformat": 4,
 "nbformat_minor": 2
}
